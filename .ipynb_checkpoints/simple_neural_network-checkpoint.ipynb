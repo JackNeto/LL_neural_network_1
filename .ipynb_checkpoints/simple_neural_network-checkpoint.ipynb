{
 "cells": [
  {
   "cell_type": "markdown",
   "metadata": {},
   "source": [
    "# A Neural Network in 11 lines of Python"
   ]
  },
  {
   "cell_type": "markdown",
   "metadata": {},
   "source": [
    "http://www.kdnuggets.com/2015/10/neural-network-python-tutorial.html\n",
    "\n",
    "A neural network trained with backpropagation is attempting to use input to predict output.\n",
    "\n",
    "<table>\n",
    "    <tr>\n",
    "        <th colspan=3>Inputs</th>\n",
    "        <th>Output</th>\n",
    "    </tr>\n",
    "    <tr>\n",
    "        <td>0</td>\n",
    "        <td>0</td>\n",
    "        <td>1</td>\n",
    "        <td>0</td>\n",
    "    </tr>\n",
    "    <tr>\n",
    "        <td>0</td>\n",
    "        <td>1</td>\n",
    "        <td>1</td>\n",
    "        <td>0</td>\n",
    "    </tr>\n",
    "    <tr>\n",
    "        <td>1</td>\n",
    "        <td>0</td>\n",
    "        <td>1</td>\n",
    "        <td>1</td>\n",
    "    </tr>    \n",
    "    <tr>\n",
    "        <td>1</td>\n",
    "        <td>1</td>\n",
    "        <td>1</td>\n",
    "        <td>1</td>\n",
    "    </tr>    \n",
    "</table>\n"
   ]
  },
  {
   "cell_type": "code",
   "execution_count": 5,
   "metadata": {
    "collapsed": false
   },
   "outputs": [],
   "source": [
    "# import libraries\n",
    "import numpy as np \n",
    "import pandas as pd\n",
    "import matplotlib.pyplot as plt\n",
    "pd.options.display.mpl_style = 'default'\n",
    "\n",
    "%matplotlib inline\n",
    "\n",
    "from __future__ import print_function\n",
    "from ipywidgets import interact, interactive, fixed\n",
    "import ipywidgets as widgets"
   ]
  },
  {
   "cell_type": "code",
   "execution_count": 2,
   "metadata": {
    "collapsed": false
   },
   "outputs": [],
   "source": [
    "def train(num_iterations):\n",
    "    # input dataset\n",
    "    X = np.array([ [0,0,1],\n",
    "        [0,1,1],\n",
    "        [1,0,1],\n",
    "        [1,1,1] ]) \n",
    "\n",
    "    # output dataset\n",
    "    y = np.array([[0,0,1,1]]).T \n",
    "\n",
    "    # seed random numbers to make calculation deterministic (just a good practice)\n",
    "    np.random.seed(1) \n",
    "\n",
    "    # initialize weights randomly with mean 0\n",
    "    weight_0 = 2*np.random.random((3,1)) - 1 \n",
    "\n",
    "    iterations = []\n",
    "    errors = []\n",
    "\n",
    "    for iter in range(num_iterations): \n",
    "\n",
    "        # forward propagation\n",
    "        layer_0 = X\n",
    "        layer_1 = nonlin(np.dot(layer_0, weight_0)) \n",
    "\n",
    "        # how much did we miss?\n",
    "        layer_1_error = y - layer_1\n",
    "\n",
    "        # multiply how much we missed by the\n",
    "        # slope of the sigmoid at the values in layer_1\n",
    "        layer_1_delta = layer_1_error * nonlin(layer_1,True)\n",
    "\n",
    "        # update weights\n",
    "        weight_0 += np.dot(layer_0.T,layer_1_delta) \n",
    "\n",
    "        # capture results so we can plot them\n",
    "        iterations.append({\n",
    "            '001': layer_1[0][0],\n",
    "            '011': layer_1[1][0],\n",
    "            '101': layer_1[2][0],\n",
    "            '111': layer_1[3][0]\n",
    "        })\n",
    "        errors.append({\n",
    "            '001': layer_1_delta[0][0],\n",
    "            '011': layer_1_delta[1][0],\n",
    "            '101': layer_1_delta[2][0],\n",
    "            '111': layer_1_delta[3][0]\n",
    "        })\n",
    "\n",
    "    #print()\n",
    "    print(\"Output After Training:\\n\", layer_1)\n",
    "        \n",
    "    fig, axs = plt.subplots(1,2, figsize=[20,5])\n",
    "    pd.DataFrame.from_dict(iterations).plot(ax=axs[0], title='Predictions by iteration')\n",
    "    pd.DataFrame.from_dict(errors).plot(ax=axs[1], title='Error by iteration')"
   ]
  },
  {
   "cell_type": "markdown",
   "metadata": {},
   "source": [
    "## Sigmoid function"
   ]
  },
  {
   "cell_type": "code",
   "execution_count": 3,
   "metadata": {
    "collapsed": true
   },
   "outputs": [],
   "source": [
    "# sigmoid function\n",
    "def nonlin(x, deriv=False):\n",
    "    if(deriv==True):\n",
    "        return x*(1-x)\n",
    "    return 1/(1+np.exp(-x)) "
   ]
  },
  {
   "cell_type": "markdown",
   "metadata": {},
   "source": [
    "A sigmoid function maps any value to a value between 0 and 1. We use it to convert numbers to probabilities. It also has several other desirable properties for training neural networks.\n",
    "\n",
    "<img src=\"sigmoid.png\">"
   ]
  },
  {
   "cell_type": "markdown",
   "metadata": {},
   "source": [
    "## Looking inside the network"
   ]
  },
  {
   "cell_type": "code",
   "execution_count": 6,
   "metadata": {
    "collapsed": false
   },
   "outputs": [
    {
     "ename": "NameError",
     "evalue": "name 'X' is not defined",
     "output_type": "error",
     "traceback": [
      "\u001b[0;31m---------------------------------------------------------------------------\u001b[0m",
      "\u001b[0;31mNameError\u001b[0m                                 Traceback (most recent call last)",
      "\u001b[0;32m<ipython-input-2-e83300d8dd75>\u001b[0m in \u001b[0;36mtrain\u001b[0;34m(num_iterations)\u001b[0m\n\u001b[1;32m     12\u001b[0m \u001b[0;34m\u001b[0m\u001b[0m\n\u001b[1;32m     13\u001b[0m         \u001b[0;31m# forward propagation\u001b[0m\u001b[0;34m\u001b[0m\u001b[0;34m\u001b[0m\u001b[0m\n\u001b[0;32m---> 14\u001b[0;31m         \u001b[0mlayer_0\u001b[0m \u001b[0;34m=\u001b[0m \u001b[0mX\u001b[0m\u001b[0;34m\u001b[0m\u001b[0m\n\u001b[0m\u001b[1;32m     15\u001b[0m         \u001b[0mlayer_1\u001b[0m \u001b[0;34m=\u001b[0m \u001b[0mnonlin\u001b[0m\u001b[0;34m(\u001b[0m\u001b[0mnp\u001b[0m\u001b[0;34m.\u001b[0m\u001b[0mdot\u001b[0m\u001b[0;34m(\u001b[0m\u001b[0mlayer_0\u001b[0m\u001b[0;34m,\u001b[0m \u001b[0mweight_0\u001b[0m\u001b[0;34m)\u001b[0m\u001b[0;34m)\u001b[0m\u001b[0;34m\u001b[0m\u001b[0m\n\u001b[1;32m     16\u001b[0m \u001b[0;34m\u001b[0m\u001b[0m\n",
      "\u001b[0;31mNameError\u001b[0m: name 'X' is not defined"
     ]
    }
   ],
   "source": [
    "interact(train, num_iterations=widgets.IntText(min=1,max=10000,step=5,value=10, description='Iterations:'));"
   ]
  }
 ],
 "metadata": {
  "kernelspec": {
   "display_name": "Python 3",
   "language": "python",
   "name": "python3"
  },
  "language_info": {
   "codemirror_mode": {
    "name": "ipython",
    "version": 3
   },
   "file_extension": ".py",
   "mimetype": "text/x-python",
   "name": "python",
   "nbconvert_exporter": "python",
   "pygments_lexer": "ipython3",
   "version": "3.4.3"
  }
 },
 "nbformat": 4,
 "nbformat_minor": 0
}
